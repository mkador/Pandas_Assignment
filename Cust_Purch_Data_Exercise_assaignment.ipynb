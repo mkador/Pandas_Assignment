{
 "cells": [
  {
   "cell_type": "markdown",
   "metadata": {
    "id": "1vpb3IowIg90"
   },
   "source": [
    "# Ecommerce Purchases Exercise Overview\n",
    "\n",
    "Hi Guys,<br>\n",
    "After a crash course on pandas for data analysis, its time to do some practice!!!<br>\n",
    "Because of privacy issues, I have created a fake dataset here with 30K entries. <br>\n",
    "The situation is, customers are providing some personal information while purchasing stuff on-line or in-store. For some reasons, your client wants to know the answer to some of his questions from the dataset, let's try to help him!.<br>\n",
    "\n",
    "*Feel free to consult the solutions if needed. Please note, the tasks given in the exercises, can be solved in different ways. Try your best answer and compare with the solutions.* <br>\n",
    "&#9758; The dataset is provided in the course downloads."
   ]
  },
  {
   "cell_type": "markdown",
   "metadata": {
    "id": "Ca-uSzpoIg-H"
   },
   "source": [
    "**1. Import Pandas and Read the csv file.**"
   ]
  },
  {
   "cell_type": "code",
   "execution_count": 14,
   "metadata": {
    "colab": {
     "base_uri": "https://localhost:8080/",
     "height": 791
    },
    "id": "VkCRDSPrIg-J",
    "outputId": "6d426d0c-78e7-44b1-d47e-94550962345a"
   },
   "outputs": [
    {
     "data": {
      "text/html": [
       "<div>\n",
       "<style scoped>\n",
       "    .dataframe tbody tr th:only-of-type {\n",
       "        vertical-align: middle;\n",
       "    }\n",
       "\n",
       "    .dataframe tbody tr th {\n",
       "        vertical-align: top;\n",
       "    }\n",
       "\n",
       "    .dataframe thead th {\n",
       "        text-align: right;\n",
       "    }\n",
       "</style>\n",
       "<table border=\"1\" class=\"dataframe\">\n",
       "  <thead>\n",
       "    <tr style=\"text-align: right;\">\n",
       "      <th></th>\n",
       "      <th>prefix</th>\n",
       "      <th>first</th>\n",
       "      <th>last</th>\n",
       "      <th>email</th>\n",
       "      <th>gender</th>\n",
       "      <th>age</th>\n",
       "      <th>company</th>\n",
       "      <th>profession</th>\n",
       "      <th>phone</th>\n",
       "      <th>postal</th>\n",
       "      <th>province</th>\n",
       "      <th>cc_no</th>\n",
       "      <th>cc_exp</th>\n",
       "      <th>cc_type</th>\n",
       "      <th>price(CAD)</th>\n",
       "      <th>fav_color</th>\n",
       "      <th>ip</th>\n",
       "      <th>weekday</th>\n",
       "      <th>ampm</th>\n",
       "      <th>date</th>\n",
       "    </tr>\n",
       "  </thead>\n",
       "  <tbody>\n",
       "    <tr>\n",
       "      <th>0</th>\n",
       "      <td>Dr.</td>\n",
       "      <td>Ray</td>\n",
       "      <td>Morton</td>\n",
       "      <td>sebvajom@kol.km</td>\n",
       "      <td>Male</td>\n",
       "      <td>38</td>\n",
       "      <td>Medtronic Inc.</td>\n",
       "      <td>Health Therapist</td>\n",
       "      <td>(987) 619-2695</td>\n",
       "      <td>B6V 3W3</td>\n",
       "      <td>MB</td>\n",
       "      <td>5020000000000230</td>\n",
       "      <td>05/2018</td>\n",
       "      <td>Solo</td>\n",
       "      <td>8.36</td>\n",
       "      <td>Blue</td>\n",
       "      <td>126.23.139.2</td>\n",
       "      <td>Sunday</td>\n",
       "      <td>pm</td>\n",
       "      <td>04/05/1930</td>\n",
       "    </tr>\n",
       "    <tr>\n",
       "      <th>1</th>\n",
       "      <td>Miss</td>\n",
       "      <td>Claudia</td>\n",
       "      <td>Rodriquez</td>\n",
       "      <td>acu@jatsot.ug</td>\n",
       "      <td>Female</td>\n",
       "      <td>51</td>\n",
       "      <td>Ames Department Stores, Inc.</td>\n",
       "      <td>Health Therapist</td>\n",
       "      <td>(356) 736-7352</td>\n",
       "      <td>G7M 5F3</td>\n",
       "      <td>SK</td>\n",
       "      <td>5020000000000230</td>\n",
       "      <td>07/2028</td>\n",
       "      <td>Visa</td>\n",
       "      <td>68.31</td>\n",
       "      <td>Black</td>\n",
       "      <td>106.198.76.211</td>\n",
       "      <td>Tuesday</td>\n",
       "      <td>am</td>\n",
       "      <td>12/20/1926</td>\n",
       "    </tr>\n",
       "    <tr>\n",
       "      <th>2</th>\n",
       "      <td>Miss</td>\n",
       "      <td>Harry</td>\n",
       "      <td>Meyer</td>\n",
       "      <td>zuz@lo.wf</td>\n",
       "      <td>Female</td>\n",
       "      <td>51</td>\n",
       "      <td>CSX Corp.</td>\n",
       "      <td>Political Scientist</td>\n",
       "      <td>(539) 246-1806</td>\n",
       "      <td>A0Z 6P9</td>\n",
       "      <td>NS</td>\n",
       "      <td>6300000000000000</td>\n",
       "      <td>02/2023</td>\n",
       "      <td>Switch</td>\n",
       "      <td>34.65</td>\n",
       "      <td>Black</td>\n",
       "      <td>186.150.187.29</td>\n",
       "      <td>Wednesday</td>\n",
       "      <td>pm</td>\n",
       "      <td>08/20/1931</td>\n",
       "    </tr>\n",
       "    <tr>\n",
       "      <th>3</th>\n",
       "      <td>Miss</td>\n",
       "      <td>Edith</td>\n",
       "      <td>Gilbert</td>\n",
       "      <td>hansohsi@jupec.md</td>\n",
       "      <td>Female</td>\n",
       "      <td>55</td>\n",
       "      <td>Murphy Oil Corporation</td>\n",
       "      <td>Transportation Manager</td>\n",
       "      <td>(984) 962-7494</td>\n",
       "      <td>P9I 9H3</td>\n",
       "      <td>YT</td>\n",
       "      <td>3530000000000000</td>\n",
       "      <td>02/2028</td>\n",
       "      <td>Maestro</td>\n",
       "      <td>64.59</td>\n",
       "      <td>White</td>\n",
       "      <td>80.140.57.161</td>\n",
       "      <td>Saturday</td>\n",
       "      <td>am</td>\n",
       "      <td>06/18/2001</td>\n",
       "    </tr>\n",
       "    <tr>\n",
       "      <th>4</th>\n",
       "      <td>Dr.</td>\n",
       "      <td>Lura</td>\n",
       "      <td>Murphy</td>\n",
       "      <td>webediti@je.st</td>\n",
       "      <td>Female</td>\n",
       "      <td>20</td>\n",
       "      <td>PETsMART Inc</td>\n",
       "      <td>Statistician</td>\n",
       "      <td>(902) 568-9748</td>\n",
       "      <td>S1A 6K0</td>\n",
       "      <td>ON</td>\n",
       "      <td>4030000000000000</td>\n",
       "      <td>10/2025</td>\n",
       "      <td>Diners Club International</td>\n",
       "      <td>20.83</td>\n",
       "      <td>Yellow</td>\n",
       "      <td>211.103.43.41</td>\n",
       "      <td>Friday</td>\n",
       "      <td>pm</td>\n",
       "      <td>06/14/2045</td>\n",
       "    </tr>\n",
       "    <tr>\n",
       "      <th>...</th>\n",
       "      <td>...</td>\n",
       "      <td>...</td>\n",
       "      <td>...</td>\n",
       "      <td>...</td>\n",
       "      <td>...</td>\n",
       "      <td>...</td>\n",
       "      <td>...</td>\n",
       "      <td>...</td>\n",
       "      <td>...</td>\n",
       "      <td>...</td>\n",
       "      <td>...</td>\n",
       "      <td>...</td>\n",
       "      <td>...</td>\n",
       "      <td>...</td>\n",
       "      <td>...</td>\n",
       "      <td>...</td>\n",
       "      <td>...</td>\n",
       "      <td>...</td>\n",
       "      <td>...</td>\n",
       "      <td>...</td>\n",
       "    </tr>\n",
       "    <tr>\n",
       "      <th>29995</th>\n",
       "      <td>Mr.</td>\n",
       "      <td>John</td>\n",
       "      <td>Maxwell</td>\n",
       "      <td>larlisu@sejenu.ad</td>\n",
       "      <td>Female</td>\n",
       "      <td>38</td>\n",
       "      <td>Spherion Corp</td>\n",
       "      <td>Publishing Director</td>\n",
       "      <td>(873) 298-1178</td>\n",
       "      <td>V4U 0X2</td>\n",
       "      <td>YT</td>\n",
       "      <td>6330000000000000</td>\n",
       "      <td>04/2028</td>\n",
       "      <td>Visa Electron</td>\n",
       "      <td>90.37</td>\n",
       "      <td>Red</td>\n",
       "      <td>194.14.119.109</td>\n",
       "      <td>Sunday</td>\n",
       "      <td>am</td>\n",
       "      <td>04/18/2014</td>\n",
       "    </tr>\n",
       "    <tr>\n",
       "      <th>29996</th>\n",
       "      <td>Dr.</td>\n",
       "      <td>Alfred</td>\n",
       "      <td>Bass</td>\n",
       "      <td>le@duridzo.gh</td>\n",
       "      <td>Female</td>\n",
       "      <td>24</td>\n",
       "      <td>Ford Motor Co</td>\n",
       "      <td>Diamond Merchant</td>\n",
       "      <td>(541) 904-3323</td>\n",
       "      <td>T9O 1H6</td>\n",
       "      <td>PE</td>\n",
       "      <td>201000000000000</td>\n",
       "      <td>12/2026</td>\n",
       "      <td>American Express</td>\n",
       "      <td>5.94</td>\n",
       "      <td>White</td>\n",
       "      <td>154.114.74.254</td>\n",
       "      <td>Sunday</td>\n",
       "      <td>pm</td>\n",
       "      <td>09/27/2068</td>\n",
       "    </tr>\n",
       "    <tr>\n",
       "      <th>29997</th>\n",
       "      <td>Mrs.</td>\n",
       "      <td>Edward</td>\n",
       "      <td>Curtis</td>\n",
       "      <td>ta@kucemah.et</td>\n",
       "      <td>Female</td>\n",
       "      <td>56</td>\n",
       "      <td>Park Place Entertainment Corp</td>\n",
       "      <td>Executive Director</td>\n",
       "      <td>(375) 931-8605</td>\n",
       "      <td>X5Z 4E1</td>\n",
       "      <td>QC</td>\n",
       "      <td>201000000000000</td>\n",
       "      <td>06/2021</td>\n",
       "      <td>Maestro</td>\n",
       "      <td>65.66</td>\n",
       "      <td>Black</td>\n",
       "      <td>188.0.106.220</td>\n",
       "      <td>Monday</td>\n",
       "      <td>pm</td>\n",
       "      <td>09/07/1997</td>\n",
       "    </tr>\n",
       "    <tr>\n",
       "      <th>29998</th>\n",
       "      <td>Mr.</td>\n",
       "      <td>Max</td>\n",
       "      <td>Woods</td>\n",
       "      <td>li@mincoz.mp</td>\n",
       "      <td>Female</td>\n",
       "      <td>64</td>\n",
       "      <td>Nacco Industries Inc</td>\n",
       "      <td>University Administrator</td>\n",
       "      <td>(786) 481-9627</td>\n",
       "      <td>G0S 9Q8</td>\n",
       "      <td>NS</td>\n",
       "      <td>30000000000000</td>\n",
       "      <td>08/2023</td>\n",
       "      <td>Solo</td>\n",
       "      <td>52.66</td>\n",
       "      <td>Black</td>\n",
       "      <td>129.168.247.27</td>\n",
       "      <td>Monday</td>\n",
       "      <td>pm</td>\n",
       "      <td>09/08/1938</td>\n",
       "    </tr>\n",
       "    <tr>\n",
       "      <th>29999</th>\n",
       "      <td>Mr.</td>\n",
       "      <td>Olga</td>\n",
       "      <td>Rodriguez</td>\n",
       "      <td>ner@ota.ec</td>\n",
       "      <td>Male</td>\n",
       "      <td>22</td>\n",
       "      <td>Texas Industries Inc.</td>\n",
       "      <td>Leasing Manager</td>\n",
       "      <td>(841) 962-4087</td>\n",
       "      <td>N2D 5K3</td>\n",
       "      <td>BC</td>\n",
       "      <td>6300000000000000</td>\n",
       "      <td>05/2024</td>\n",
       "      <td>InstaPayment</td>\n",
       "      <td>17.71</td>\n",
       "      <td>Yellow</td>\n",
       "      <td>70.2.107.65</td>\n",
       "      <td>Wednesday</td>\n",
       "      <td>am</td>\n",
       "      <td>06/22/1956</td>\n",
       "    </tr>\n",
       "  </tbody>\n",
       "</table>\n",
       "<p>30000 rows × 20 columns</p>\n",
       "</div>"
      ],
      "text/plain": [
       "      prefix    first       last              email  gender  age  \\\n",
       "0        Dr.      Ray     Morton    sebvajom@kol.km    Male   38   \n",
       "1       Miss  Claudia  Rodriquez      acu@jatsot.ug  Female   51   \n",
       "2       Miss    Harry      Meyer          zuz@lo.wf  Female   51   \n",
       "3       Miss    Edith    Gilbert  hansohsi@jupec.md  Female   55   \n",
       "4        Dr.     Lura     Murphy     webediti@je.st  Female   20   \n",
       "...      ...      ...        ...                ...     ...  ...   \n",
       "29995    Mr.     John    Maxwell  larlisu@sejenu.ad  Female   38   \n",
       "29996    Dr.   Alfred       Bass      le@duridzo.gh  Female   24   \n",
       "29997   Mrs.   Edward     Curtis      ta@kucemah.et  Female   56   \n",
       "29998    Mr.      Max      Woods       li@mincoz.mp  Female   64   \n",
       "29999    Mr.     Olga  Rodriguez         ner@ota.ec    Male   22   \n",
       "\n",
       "                             company                profession  \\\n",
       "0                     Medtronic Inc.          Health Therapist   \n",
       "1       Ames Department Stores, Inc.          Health Therapist   \n",
       "2                          CSX Corp.       Political Scientist   \n",
       "3             Murphy Oil Corporation    Transportation Manager   \n",
       "4                       PETsMART Inc              Statistician   \n",
       "...                              ...                       ...   \n",
       "29995                  Spherion Corp       Publishing Director   \n",
       "29996                  Ford Motor Co          Diamond Merchant   \n",
       "29997  Park Place Entertainment Corp        Executive Director   \n",
       "29998           Nacco Industries Inc  University Administrator   \n",
       "29999          Texas Industries Inc.           Leasing Manager   \n",
       "\n",
       "                phone   postal province             cc_no   cc_exp  \\\n",
       "0      (987) 619-2695  B6V 3W3       MB  5020000000000230  05/2018   \n",
       "1      (356) 736-7352  G7M 5F3       SK  5020000000000230  07/2028   \n",
       "2      (539) 246-1806  A0Z 6P9       NS  6300000000000000  02/2023   \n",
       "3      (984) 962-7494  P9I 9H3       YT  3530000000000000  02/2028   \n",
       "4      (902) 568-9748  S1A 6K0       ON  4030000000000000  10/2025   \n",
       "...               ...      ...      ...               ...      ...   \n",
       "29995  (873) 298-1178  V4U 0X2       YT  6330000000000000  04/2028   \n",
       "29996  (541) 904-3323  T9O 1H6       PE   201000000000000  12/2026   \n",
       "29997  (375) 931-8605  X5Z 4E1       QC   201000000000000  06/2021   \n",
       "29998  (786) 481-9627  G0S 9Q8       NS    30000000000000  08/2023   \n",
       "29999  (841) 962-4087  N2D 5K3       BC  6300000000000000  05/2024   \n",
       "\n",
       "                         cc_type  price(CAD) fav_color              ip  \\\n",
       "0                           Solo        8.36      Blue    126.23.139.2   \n",
       "1                           Visa       68.31     Black  106.198.76.211   \n",
       "2                         Switch       34.65     Black  186.150.187.29   \n",
       "3                        Maestro       64.59     White   80.140.57.161   \n",
       "4      Diners Club International       20.83    Yellow   211.103.43.41   \n",
       "...                          ...         ...       ...             ...   \n",
       "29995              Visa Electron       90.37       Red  194.14.119.109   \n",
       "29996           American Express        5.94     White  154.114.74.254   \n",
       "29997                    Maestro       65.66     Black   188.0.106.220   \n",
       "29998                       Solo       52.66     Black  129.168.247.27   \n",
       "29999               InstaPayment       17.71    Yellow     70.2.107.65   \n",
       "\n",
       "         weekday ampm        date  \n",
       "0         Sunday   pm  04/05/1930  \n",
       "1        Tuesday   am  12/20/1926  \n",
       "2      Wednesday   pm  08/20/1931  \n",
       "3       Saturday   am  06/18/2001  \n",
       "4         Friday   pm  06/14/2045  \n",
       "...          ...  ...         ...  \n",
       "29995     Sunday   am  04/18/2014  \n",
       "29996     Sunday   pm  09/27/2068  \n",
       "29997     Monday   pm  09/07/1997  \n",
       "29998     Monday   pm  09/08/1938  \n",
       "29999  Wednesday   am  06/22/1956  \n",
       "\n",
       "[30000 rows x 20 columns]"
      ]
     },
     "execution_count": 14,
     "metadata": {},
     "output_type": "execute_result"
    }
   ],
   "source": [
    "import pandas as pd\n",
    "df=pd.read_csv('Cust_Purch_FakeData.csv')\n",
    "df"
   ]
  },
  {
   "cell_type": "markdown",
   "metadata": {
    "id": "YSl33IGAIg-N"
   },
   "source": [
    "**2. Its good idea to see how the data look like, display first 5 rows of your data-set.**"
   ]
  },
  {
   "cell_type": "code",
   "execution_count": 15,
   "metadata": {
    "colab": {
     "base_uri": "https://localhost:8080/"
    },
    "id": "8yhXsh6cL1y6",
    "outputId": "08a0b20d-22e3-4914-a7dd-c3475fe0105e"
   },
   "outputs": [],
   "source": [
    "# from google.colab import drive\n",
    "# drive.mount('/content/drive')"
   ]
  },
  {
   "cell_type": "code",
   "execution_count": 16,
   "metadata": {
    "colab": {
     "base_uri": "https://localhost:8080/",
     "height": 400
    },
    "id": "7l4vsld0M__M",
    "outputId": "02c6bcd8-bd78-43f7-94fa-4feb557f5526"
   },
   "outputs": [
    {
     "data": {
      "text/html": [
       "<div>\n",
       "<style scoped>\n",
       "    .dataframe tbody tr th:only-of-type {\n",
       "        vertical-align: middle;\n",
       "    }\n",
       "\n",
       "    .dataframe tbody tr th {\n",
       "        vertical-align: top;\n",
       "    }\n",
       "\n",
       "    .dataframe thead th {\n",
       "        text-align: right;\n",
       "    }\n",
       "</style>\n",
       "<table border=\"1\" class=\"dataframe\">\n",
       "  <thead>\n",
       "    <tr style=\"text-align: right;\">\n",
       "      <th></th>\n",
       "      <th>prefix</th>\n",
       "      <th>first</th>\n",
       "      <th>last</th>\n",
       "      <th>email</th>\n",
       "      <th>gender</th>\n",
       "      <th>age</th>\n",
       "      <th>company</th>\n",
       "      <th>profession</th>\n",
       "      <th>phone</th>\n",
       "      <th>postal</th>\n",
       "      <th>province</th>\n",
       "      <th>cc_no</th>\n",
       "      <th>cc_exp</th>\n",
       "      <th>cc_type</th>\n",
       "      <th>price(CAD)</th>\n",
       "      <th>fav_color</th>\n",
       "      <th>ip</th>\n",
       "      <th>weekday</th>\n",
       "      <th>ampm</th>\n",
       "      <th>date</th>\n",
       "    </tr>\n",
       "  </thead>\n",
       "  <tbody>\n",
       "    <tr>\n",
       "      <th>0</th>\n",
       "      <td>Dr.</td>\n",
       "      <td>Ray</td>\n",
       "      <td>Morton</td>\n",
       "      <td>sebvajom@kol.km</td>\n",
       "      <td>Male</td>\n",
       "      <td>38</td>\n",
       "      <td>Medtronic Inc.</td>\n",
       "      <td>Health Therapist</td>\n",
       "      <td>(987) 619-2695</td>\n",
       "      <td>B6V 3W3</td>\n",
       "      <td>MB</td>\n",
       "      <td>5020000000000230</td>\n",
       "      <td>05/2018</td>\n",
       "      <td>Solo</td>\n",
       "      <td>8.36</td>\n",
       "      <td>Blue</td>\n",
       "      <td>126.23.139.2</td>\n",
       "      <td>Sunday</td>\n",
       "      <td>pm</td>\n",
       "      <td>04/05/1930</td>\n",
       "    </tr>\n",
       "    <tr>\n",
       "      <th>1</th>\n",
       "      <td>Miss</td>\n",
       "      <td>Claudia</td>\n",
       "      <td>Rodriquez</td>\n",
       "      <td>acu@jatsot.ug</td>\n",
       "      <td>Female</td>\n",
       "      <td>51</td>\n",
       "      <td>Ames Department Stores, Inc.</td>\n",
       "      <td>Health Therapist</td>\n",
       "      <td>(356) 736-7352</td>\n",
       "      <td>G7M 5F3</td>\n",
       "      <td>SK</td>\n",
       "      <td>5020000000000230</td>\n",
       "      <td>07/2028</td>\n",
       "      <td>Visa</td>\n",
       "      <td>68.31</td>\n",
       "      <td>Black</td>\n",
       "      <td>106.198.76.211</td>\n",
       "      <td>Tuesday</td>\n",
       "      <td>am</td>\n",
       "      <td>12/20/1926</td>\n",
       "    </tr>\n",
       "    <tr>\n",
       "      <th>2</th>\n",
       "      <td>Miss</td>\n",
       "      <td>Harry</td>\n",
       "      <td>Meyer</td>\n",
       "      <td>zuz@lo.wf</td>\n",
       "      <td>Female</td>\n",
       "      <td>51</td>\n",
       "      <td>CSX Corp.</td>\n",
       "      <td>Political Scientist</td>\n",
       "      <td>(539) 246-1806</td>\n",
       "      <td>A0Z 6P9</td>\n",
       "      <td>NS</td>\n",
       "      <td>6300000000000000</td>\n",
       "      <td>02/2023</td>\n",
       "      <td>Switch</td>\n",
       "      <td>34.65</td>\n",
       "      <td>Black</td>\n",
       "      <td>186.150.187.29</td>\n",
       "      <td>Wednesday</td>\n",
       "      <td>pm</td>\n",
       "      <td>08/20/1931</td>\n",
       "    </tr>\n",
       "    <tr>\n",
       "      <th>3</th>\n",
       "      <td>Miss</td>\n",
       "      <td>Edith</td>\n",
       "      <td>Gilbert</td>\n",
       "      <td>hansohsi@jupec.md</td>\n",
       "      <td>Female</td>\n",
       "      <td>55</td>\n",
       "      <td>Murphy Oil Corporation</td>\n",
       "      <td>Transportation Manager</td>\n",
       "      <td>(984) 962-7494</td>\n",
       "      <td>P9I 9H3</td>\n",
       "      <td>YT</td>\n",
       "      <td>3530000000000000</td>\n",
       "      <td>02/2028</td>\n",
       "      <td>Maestro</td>\n",
       "      <td>64.59</td>\n",
       "      <td>White</td>\n",
       "      <td>80.140.57.161</td>\n",
       "      <td>Saturday</td>\n",
       "      <td>am</td>\n",
       "      <td>06/18/2001</td>\n",
       "    </tr>\n",
       "    <tr>\n",
       "      <th>4</th>\n",
       "      <td>Dr.</td>\n",
       "      <td>Lura</td>\n",
       "      <td>Murphy</td>\n",
       "      <td>webediti@je.st</td>\n",
       "      <td>Female</td>\n",
       "      <td>20</td>\n",
       "      <td>PETsMART Inc</td>\n",
       "      <td>Statistician</td>\n",
       "      <td>(902) 568-9748</td>\n",
       "      <td>S1A 6K0</td>\n",
       "      <td>ON</td>\n",
       "      <td>4030000000000000</td>\n",
       "      <td>10/2025</td>\n",
       "      <td>Diners Club International</td>\n",
       "      <td>20.83</td>\n",
       "      <td>Yellow</td>\n",
       "      <td>211.103.43.41</td>\n",
       "      <td>Friday</td>\n",
       "      <td>pm</td>\n",
       "      <td>06/14/2045</td>\n",
       "    </tr>\n",
       "  </tbody>\n",
       "</table>\n",
       "</div>"
      ],
      "text/plain": [
       "  prefix    first       last              email  gender  age  \\\n",
       "0    Dr.      Ray     Morton    sebvajom@kol.km    Male   38   \n",
       "1   Miss  Claudia  Rodriquez      acu@jatsot.ug  Female   51   \n",
       "2   Miss    Harry      Meyer          zuz@lo.wf  Female   51   \n",
       "3   Miss    Edith    Gilbert  hansohsi@jupec.md  Female   55   \n",
       "4    Dr.     Lura     Murphy     webediti@je.st  Female   20   \n",
       "\n",
       "                        company              profession           phone  \\\n",
       "0                Medtronic Inc.        Health Therapist  (987) 619-2695   \n",
       "1  Ames Department Stores, Inc.        Health Therapist  (356) 736-7352   \n",
       "2                     CSX Corp.     Political Scientist  (539) 246-1806   \n",
       "3        Murphy Oil Corporation  Transportation Manager  (984) 962-7494   \n",
       "4                  PETsMART Inc            Statistician  (902) 568-9748   \n",
       "\n",
       "    postal province             cc_no   cc_exp                    cc_type  \\\n",
       "0  B6V 3W3       MB  5020000000000230  05/2018                       Solo   \n",
       "1  G7M 5F3       SK  5020000000000230  07/2028                       Visa   \n",
       "2  A0Z 6P9       NS  6300000000000000  02/2023                     Switch   \n",
       "3  P9I 9H3       YT  3530000000000000  02/2028                    Maestro   \n",
       "4  S1A 6K0       ON  4030000000000000  10/2025  Diners Club International   \n",
       "\n",
       "   price(CAD) fav_color              ip    weekday ampm        date  \n",
       "0        8.36      Blue    126.23.139.2     Sunday   pm  04/05/1930  \n",
       "1       68.31     Black  106.198.76.211    Tuesday   am  12/20/1926  \n",
       "2       34.65     Black  186.150.187.29  Wednesday   pm  08/20/1931  \n",
       "3       64.59     White   80.140.57.161   Saturday   am  06/18/2001  \n",
       "4       20.83    Yellow   211.103.43.41     Friday   pm  06/14/2045  "
      ]
     },
     "execution_count": 16,
     "metadata": {},
     "output_type": "execute_result"
    }
   ],
   "source": [
    "#Display 5 rows\n",
    "df.head(5)"
   ]
  },
  {
   "cell_type": "markdown",
   "metadata": {
    "id": "Ga15j-ryIg-R"
   },
   "source": [
    "**3. How many entries your data have?\n",
    "Can you tell the no. of columns in your data?**"
   ]
  },
  {
   "cell_type": "code",
   "execution_count": 17,
   "metadata": {
    "colab": {
     "base_uri": "https://localhost:8080/"
    },
    "id": "h2kU4EOIIg-S",
    "outputId": "9f2bd7f7-9ee6-4edb-94f4-7c669bd64bf9"
   },
   "outputs": [
    {
     "name": "stdout",
     "output_type": "stream",
     "text": [
      "<class 'pandas.core.frame.DataFrame'>\n",
      "RangeIndex: 30000 entries, 0 to 29999\n",
      "Data columns (total 20 columns):\n",
      " #   Column      Non-Null Count  Dtype  \n",
      "---  ------      --------------  -----  \n",
      " 0   prefix      30000 non-null  object \n",
      " 1   first       30000 non-null  object \n",
      " 2   last        30000 non-null  object \n",
      " 3   email       30000 non-null  object \n",
      " 4   gender      30000 non-null  object \n",
      " 5   age         30000 non-null  int64  \n",
      " 6   company     30000 non-null  object \n",
      " 7   profession  30000 non-null  object \n",
      " 8   phone       30000 non-null  object \n",
      " 9   postal      30000 non-null  object \n",
      " 10  province    30000 non-null  object \n",
      " 11  cc_no       30000 non-null  int64  \n",
      " 12  cc_exp      30000 non-null  object \n",
      " 13  cc_type     30000 non-null  object \n",
      " 14  price(CAD)  30000 non-null  float64\n",
      " 15  fav_color   30000 non-null  object \n",
      " 16  ip          30000 non-null  object \n",
      " 17  weekday     30000 non-null  object \n",
      " 18  ampm        30000 non-null  object \n",
      " 19  date        30000 non-null  object \n",
      "dtypes: float64(1), int64(2), object(17)\n",
      "memory usage: 4.6+ MB\n"
     ]
    }
   ],
   "source": [
    "# Code here please\n",
    "df.info()"
   ]
  },
  {
   "cell_type": "markdown",
   "metadata": {
    "id": "2qU_Ztf_Ig-U"
   },
   "source": [
    "**4. What are the max and min ages of your customer? Can you find mean of your customer?**"
   ]
  },
  {
   "cell_type": "code",
   "execution_count": 18,
   "metadata": {
    "colab": {
     "base_uri": "https://localhost:8080/"
    },
    "id": "NJkA60O9Ig-U",
    "outputId": "14fcaeab-291a-4ad0-d6f0-38cb05df2722"
   },
   "outputs": [
    {
     "name": "stdout",
     "output_type": "stream",
     "text": [
      "Max. age of the customer is: 65\n",
      "Max. age of the customer is: 18\n",
      "Avg. age of the customer is: 41.550066666666666\n"
     ]
    }
   ],
   "source": [
    "# Code here please\n",
    "df['age'].max()\n",
    "df['age'].min()\n",
    "print('Max. age of the customer is:', df['age'].max())\n",
    "print('Max. age of the customer is:', df['age'].min())\n",
    "print('Avg. age of the customer is:', df['age'].mean())"
   ]
  },
  {
   "cell_type": "markdown",
   "metadata": {
    "id": "qmLs4Y3ZIg-V"
   },
   "source": [
    "**5. What are the three most common customer's names?**<br>\n",
    "&#9989; [<code>**value_counts()**</code>](http://pandas.pydata.org/pandas-docs/stable/generated/pandas.Series.value_counts.html) returns object containing counts of unique values. The resulting object will be in descending order so that the first element is the most frequently-occurring element. Excludes NA values by default."
   ]
  },
  {
   "cell_type": "code",
   "execution_count": 19,
   "metadata": {
    "colab": {
     "base_uri": "https://localhost:8080/",
     "height": 210
    },
    "id": "E9rWAw3yIg-V",
    "outputId": "f117fb6a-58fa-4232-f102-fdfb0c6b77e7"
   },
   "outputs": [
    {
     "data": {
      "text/plain": [
       "first\n",
       "Willie     130\n",
       "Francis    124\n",
       "Eula        86\n",
       "Name: count, dtype: int64"
      ]
     },
     "execution_count": 19,
     "metadata": {},
     "output_type": "execute_result"
    }
   ],
   "source": [
    "# Code here please\n",
    "df['first'].value_counts(ascending=False).head(3)"
   ]
  },
  {
   "cell_type": "markdown",
   "metadata": {
    "id": "nLl-DRE7Ig-W"
   },
   "source": [
    "**6. Two customers have the same phone number, can you find those customers**?"
   ]
  },
  {
   "cell_type": "code",
   "execution_count": 20,
   "metadata": {
    "colab": {
     "base_uri": "https://localhost:8080/",
     "height": 178
    },
    "id": "jgGZcE0LIg-X",
    "outputId": "4d0fc710-03e8-4127-b9ef-2076b0de1b0a",
    "scrolled": true
   },
   "outputs": [
    {
     "data": {
      "text/plain": [
       "phone\n",
       "(263) 382-8004    2\n",
       "(712) 247-7037    1\n",
       "Name: count, dtype: int64"
      ]
     },
     "execution_count": 20,
     "metadata": {},
     "output_type": "execute_result"
    }
   ],
   "source": [
    "# lets find what phone number is twice!\n",
    "df['phone'].value_counts(ascending=False).head(2)"
   ]
  },
  {
   "cell_type": "code",
   "execution_count": 21,
   "metadata": {
    "colab": {
     "base_uri": "https://localhost:8080/",
     "height": 219
    },
    "id": "925HAvDWIg-Y",
    "outputId": "dfb5230d-8316-4bc6-a198-b4c6b6972456"
   },
   "outputs": [
    {
     "data": {
      "text/html": [
       "<div>\n",
       "<style scoped>\n",
       "    .dataframe tbody tr th:only-of-type {\n",
       "        vertical-align: middle;\n",
       "    }\n",
       "\n",
       "    .dataframe tbody tr th {\n",
       "        vertical-align: top;\n",
       "    }\n",
       "\n",
       "    .dataframe thead th {\n",
       "        text-align: right;\n",
       "    }\n",
       "</style>\n",
       "<table border=\"1\" class=\"dataframe\">\n",
       "  <thead>\n",
       "    <tr style=\"text-align: right;\">\n",
       "      <th></th>\n",
       "      <th>prefix</th>\n",
       "      <th>first</th>\n",
       "      <th>last</th>\n",
       "      <th>email</th>\n",
       "      <th>gender</th>\n",
       "      <th>age</th>\n",
       "      <th>company</th>\n",
       "      <th>profession</th>\n",
       "      <th>phone</th>\n",
       "      <th>postal</th>\n",
       "      <th>province</th>\n",
       "      <th>cc_no</th>\n",
       "      <th>cc_exp</th>\n",
       "      <th>cc_type</th>\n",
       "      <th>price(CAD)</th>\n",
       "      <th>fav_color</th>\n",
       "      <th>ip</th>\n",
       "      <th>weekday</th>\n",
       "      <th>ampm</th>\n",
       "      <th>date</th>\n",
       "    </tr>\n",
       "  </thead>\n",
       "  <tbody>\n",
       "    <tr>\n",
       "      <th>15</th>\n",
       "      <td>Mrs.</td>\n",
       "      <td>Lilly</td>\n",
       "      <td>Tyler</td>\n",
       "      <td>kofadu@itohi.tf</td>\n",
       "      <td>Female</td>\n",
       "      <td>38</td>\n",
       "      <td>CSX Corp.</td>\n",
       "      <td>Structural Engineer</td>\n",
       "      <td>(263) 382-8004</td>\n",
       "      <td>V7K 1E3</td>\n",
       "      <td>ON</td>\n",
       "      <td>30000000000000</td>\n",
       "      <td>11/2022</td>\n",
       "      <td>Diners Club Carte Blanche</td>\n",
       "      <td>9.61</td>\n",
       "      <td>Yellow</td>\n",
       "      <td>74.124.37.227</td>\n",
       "      <td>Saturday</td>\n",
       "      <td>am</td>\n",
       "      <td>03/30/1985</td>\n",
       "    </tr>\n",
       "    <tr>\n",
       "      <th>16</th>\n",
       "      <td>Mrs.</td>\n",
       "      <td>Peter</td>\n",
       "      <td>Cain</td>\n",
       "      <td>megkosig@anazeor.gn</td>\n",
       "      <td>Male</td>\n",
       "      <td>27</td>\n",
       "      <td>Campbell Soup Co.</td>\n",
       "      <td>Insurance Adjuster</td>\n",
       "      <td>(263) 382-8004</td>\n",
       "      <td>E8T 2B4</td>\n",
       "      <td>YT</td>\n",
       "      <td>3530000000000000</td>\n",
       "      <td>03/2024</td>\n",
       "      <td>Solo</td>\n",
       "      <td>13.74</td>\n",
       "      <td>Black</td>\n",
       "      <td>25.207.141.135</td>\n",
       "      <td>Tuesday</td>\n",
       "      <td>am</td>\n",
       "      <td>08/05/1950</td>\n",
       "    </tr>\n",
       "  </tbody>\n",
       "</table>\n",
       "</div>"
      ],
      "text/plain": [
       "   prefix  first   last                email  gender  age            company  \\\n",
       "15   Mrs.  Lilly  Tyler      kofadu@itohi.tf  Female   38          CSX Corp.   \n",
       "16   Mrs.  Peter   Cain  megkosig@anazeor.gn    Male   27  Campbell Soup Co.   \n",
       "\n",
       "             profession           phone   postal province             cc_no  \\\n",
       "15  Structural Engineer  (263) 382-8004  V7K 1E3       ON    30000000000000   \n",
       "16   Insurance Adjuster  (263) 382-8004  E8T 2B4       YT  3530000000000000   \n",
       "\n",
       "     cc_exp                    cc_type  price(CAD) fav_color              ip  \\\n",
       "15  11/2022  Diners Club Carte Blanche        9.61    Yellow   74.124.37.227   \n",
       "16  03/2024                       Solo       13.74     Black  25.207.141.135   \n",
       "\n",
       "     weekday ampm        date  \n",
       "15  Saturday   am  03/30/1985  \n",
       "16   Tuesday   am  08/05/1950  "
      ]
     },
     "execution_count": 21,
     "metadata": {},
     "output_type": "execute_result"
    }
   ],
   "source": [
    "# Now we know the phone number, let's find out the other stuff!\n",
    "df[df.duplicated(subset=['phone'], keep=False)]"
   ]
  },
  {
   "cell_type": "markdown",
   "metadata": {
    "id": "4HcY7YmVIg-Y"
   },
   "source": [
    "**7. How many customers have profession \"Structural Engineer\"?**"
   ]
  },
  {
   "cell_type": "code",
   "execution_count": 22,
   "metadata": {
    "colab": {
     "base_uri": "https://localhost:8080/",
     "height": 711
    },
    "id": "WdeVEN2gIg-Y",
    "outputId": "3a0eb32c-7df4-4221-c4ba-e591cc220faf"
   },
   "outputs": [
    {
     "data": {
      "text/plain": [
       "prefix        87\n",
       "first         87\n",
       "last          87\n",
       "email         87\n",
       "gender        87\n",
       "age           87\n",
       "company       87\n",
       "profession    87\n",
       "phone         87\n",
       "postal        87\n",
       "province      87\n",
       "cc_no         87\n",
       "cc_exp        87\n",
       "cc_type       87\n",
       "price(CAD)    87\n",
       "fav_color     87\n",
       "ip            87\n",
       "weekday       87\n",
       "ampm          87\n",
       "date          87\n",
       "dtype: int64"
      ]
     },
     "execution_count": 22,
     "metadata": {},
     "output_type": "execute_result"
    }
   ],
   "source": [
    "# Code here please\n",
    "df[df['profession']=='Structural Engineer'].count()\n"
   ]
  },
  {
   "cell_type": "markdown",
   "metadata": {
    "id": "GDdi7IAxIg-a"
   },
   "source": [
    "**8. How many male customers are 'Structural Engineer'?**"
   ]
  },
  {
   "cell_type": "code",
   "execution_count": 23,
   "metadata": {
    "colab": {
     "base_uri": "https://localhost:8080/",
     "height": 711
    },
    "id": "7EBFUhgaIg-a",
    "outputId": "89d8f519-14ee-4ef5-9517-836730bddd7e"
   },
   "outputs": [
    {
     "data": {
      "text/plain": [
       "prefix        43\n",
       "first         43\n",
       "last          43\n",
       "email         43\n",
       "gender        43\n",
       "age           43\n",
       "company       43\n",
       "profession    43\n",
       "phone         43\n",
       "postal        43\n",
       "province      43\n",
       "cc_no         43\n",
       "cc_exp        43\n",
       "cc_type       43\n",
       "price(CAD)    43\n",
       "fav_color     43\n",
       "ip            43\n",
       "weekday       43\n",
       "ampm          43\n",
       "date          43\n",
       "dtype: int64"
      ]
     },
     "execution_count": 23,
     "metadata": {},
     "output_type": "execute_result"
    }
   ],
   "source": [
    "# Code here please\n",
    "df[(df['profession']=='Structural Engineer') & (df['gender']=='Male')].count()"
   ]
  },
  {
   "cell_type": "code",
   "execution_count": null,
   "metadata": {
    "id": "vG6d_ARYIg-a",
    "outputId": "90d5d8d2-6aab-4ac2-cad0-881f590aeba2"
   },
   "outputs": [],
   "source": []
  },
  {
   "cell_type": "markdown",
   "metadata": {
    "id": "I6lfbMZGIg-a"
   },
   "source": [
    "**9. Find out the female Structural Engineers from province Alberta (AB)?**"
   ]
  },
  {
   "cell_type": "code",
   "execution_count": 24,
   "metadata": {
    "colab": {
     "base_uri": "https://localhost:8080/",
     "height": 351
    },
    "id": "Ufe82SFVIg-c",
    "outputId": "d5a052eb-3c37-427f-d142-a3d891e5971e"
   },
   "outputs": [
    {
     "data": {
      "text/html": [
       "<div>\n",
       "<style scoped>\n",
       "    .dataframe tbody tr th:only-of-type {\n",
       "        vertical-align: middle;\n",
       "    }\n",
       "\n",
       "    .dataframe tbody tr th {\n",
       "        vertical-align: top;\n",
       "    }\n",
       "\n",
       "    .dataframe thead th {\n",
       "        text-align: right;\n",
       "    }\n",
       "</style>\n",
       "<table border=\"1\" class=\"dataframe\">\n",
       "  <thead>\n",
       "    <tr style=\"text-align: right;\">\n",
       "      <th></th>\n",
       "      <th>prefix</th>\n",
       "      <th>first</th>\n",
       "      <th>last</th>\n",
       "      <th>email</th>\n",
       "      <th>gender</th>\n",
       "      <th>age</th>\n",
       "      <th>company</th>\n",
       "      <th>profession</th>\n",
       "      <th>phone</th>\n",
       "      <th>postal</th>\n",
       "      <th>province</th>\n",
       "      <th>cc_no</th>\n",
       "      <th>cc_exp</th>\n",
       "      <th>cc_type</th>\n",
       "      <th>price(CAD)</th>\n",
       "      <th>fav_color</th>\n",
       "      <th>ip</th>\n",
       "      <th>weekday</th>\n",
       "      <th>ampm</th>\n",
       "      <th>date</th>\n",
       "    </tr>\n",
       "  </thead>\n",
       "  <tbody>\n",
       "    <tr>\n",
       "      <th>8858</th>\n",
       "      <td>Dr.</td>\n",
       "      <td>Roy</td>\n",
       "      <td>Stanley</td>\n",
       "      <td>apiunvo@ehasom.ir</td>\n",
       "      <td>Female</td>\n",
       "      <td>39</td>\n",
       "      <td>Cincinnati Financial Corp.</td>\n",
       "      <td>Structural Engineer</td>\n",
       "      <td>(876) 758-2929</td>\n",
       "      <td>N5A 6L2</td>\n",
       "      <td>AB</td>\n",
       "      <td>6300000000000000</td>\n",
       "      <td>02/2022</td>\n",
       "      <td>InstaPayment</td>\n",
       "      <td>31.86</td>\n",
       "      <td>Red</td>\n",
       "      <td>165.249.159.57</td>\n",
       "      <td>Sunday</td>\n",
       "      <td>pm</td>\n",
       "      <td>12/25/1903</td>\n",
       "    </tr>\n",
       "    <tr>\n",
       "      <th>9058</th>\n",
       "      <td>Mr.</td>\n",
       "      <td>Lora</td>\n",
       "      <td>Kennedy</td>\n",
       "      <td>dennap@rabac.se</td>\n",
       "      <td>Female</td>\n",
       "      <td>51</td>\n",
       "      <td>BJ Services Company</td>\n",
       "      <td>Structural Engineer</td>\n",
       "      <td>(305) 786-6959</td>\n",
       "      <td>N3R 4B7</td>\n",
       "      <td>AB</td>\n",
       "      <td>201000000000000</td>\n",
       "      <td>06/2019</td>\n",
       "      <td>Diners Club United States &amp; Canada</td>\n",
       "      <td>53.29</td>\n",
       "      <td>Black</td>\n",
       "      <td>42.216.243.206</td>\n",
       "      <td>Thursday</td>\n",
       "      <td>pm</td>\n",
       "      <td>06/06/2028</td>\n",
       "    </tr>\n",
       "    <tr>\n",
       "      <th>24736</th>\n",
       "      <td>Mrs.</td>\n",
       "      <td>Nell</td>\n",
       "      <td>Richards</td>\n",
       "      <td>dob@me.ki</td>\n",
       "      <td>Female</td>\n",
       "      <td>18</td>\n",
       "      <td>Telephone &amp; Data Systems Inc</td>\n",
       "      <td>Structural Engineer</td>\n",
       "      <td>(262) 681-5018</td>\n",
       "      <td>N3Y 3G2</td>\n",
       "      <td>AB</td>\n",
       "      <td>347000000000000</td>\n",
       "      <td>07/2028</td>\n",
       "      <td>American Express</td>\n",
       "      <td>76.28</td>\n",
       "      <td>Blue</td>\n",
       "      <td>91.16.30.156</td>\n",
       "      <td>Wednesday</td>\n",
       "      <td>pm</td>\n",
       "      <td>07/14/1951</td>\n",
       "    </tr>\n",
       "    <tr>\n",
       "      <th>29865</th>\n",
       "      <td>Mrs.</td>\n",
       "      <td>Don</td>\n",
       "      <td>McDaniel</td>\n",
       "      <td>naf@zudu.bj</td>\n",
       "      <td>Female</td>\n",
       "      <td>37</td>\n",
       "      <td>Anadarko Petroleum Corporation</td>\n",
       "      <td>Structural Engineer</td>\n",
       "      <td>(238) 789-2825</td>\n",
       "      <td>B4A 8Q9</td>\n",
       "      <td>AB</td>\n",
       "      <td>5610000000000000</td>\n",
       "      <td>12/2022</td>\n",
       "      <td>Mastercard</td>\n",
       "      <td>62.71</td>\n",
       "      <td>Blue</td>\n",
       "      <td>162.233.117.142</td>\n",
       "      <td>Sunday</td>\n",
       "      <td>pm</td>\n",
       "      <td>11/03/1989</td>\n",
       "    </tr>\n",
       "  </tbody>\n",
       "</table>\n",
       "</div>"
      ],
      "text/plain": [
       "      prefix first      last              email  gender  age  \\\n",
       "8858     Dr.   Roy   Stanley  apiunvo@ehasom.ir  Female   39   \n",
       "9058     Mr.  Lora   Kennedy    dennap@rabac.se  Female   51   \n",
       "24736   Mrs.  Nell  Richards          dob@me.ki  Female   18   \n",
       "29865   Mrs.   Don  McDaniel        naf@zudu.bj  Female   37   \n",
       "\n",
       "                              company           profession           phone  \\\n",
       "8858       Cincinnati Financial Corp.  Structural Engineer  (876) 758-2929   \n",
       "9058              BJ Services Company  Structural Engineer  (305) 786-6959   \n",
       "24736    Telephone & Data Systems Inc  Structural Engineer  (262) 681-5018   \n",
       "29865  Anadarko Petroleum Corporation  Structural Engineer  (238) 789-2825   \n",
       "\n",
       "        postal province             cc_no   cc_exp  \\\n",
       "8858   N5A 6L2       AB  6300000000000000  02/2022   \n",
       "9058   N3R 4B7       AB   201000000000000  06/2019   \n",
       "24736  N3Y 3G2       AB   347000000000000  07/2028   \n",
       "29865  B4A 8Q9       AB  5610000000000000  12/2022   \n",
       "\n",
       "                                  cc_type  price(CAD) fav_color  \\\n",
       "8858                         InstaPayment       31.86       Red   \n",
       "9058   Diners Club United States & Canada       53.29     Black   \n",
       "24736                    American Express       76.28      Blue   \n",
       "29865                          Mastercard       62.71      Blue   \n",
       "\n",
       "                    ip    weekday ampm        date  \n",
       "8858    165.249.159.57     Sunday   pm  12/25/1903  \n",
       "9058    42.216.243.206   Thursday   pm  06/06/2028  \n",
       "24736     91.16.30.156  Wednesday   pm  07/14/1951  \n",
       "29865  162.233.117.142     Sunday   pm  11/03/1989  "
      ]
     },
     "execution_count": 24,
     "metadata": {},
     "output_type": "execute_result"
    }
   ],
   "source": [
    "# Code here please\n",
    "df[(df['profession']=='Structural Engineer') & (df['gender']=='Female') & (df['province']=='AB')]"
   ]
  },
  {
   "cell_type": "code",
   "execution_count": null,
   "metadata": {
    "id": "ZH6iUquVIg-c",
    "outputId": "269e8c3e-181d-4b5d-ea92-010b56678dd0"
   },
   "outputs": [],
   "source": []
  },
  {
   "cell_type": "markdown",
   "metadata": {
    "id": "Id610t_vIg-d"
   },
   "source": [
    "**10. What is the max, min and average spending?**"
   ]
  },
  {
   "cell_type": "code",
   "execution_count": 25,
   "metadata": {
    "colab": {
     "base_uri": "https://localhost:8080/"
    },
    "id": "FPjRWBD9Ig-d",
    "outputId": "383c764d-1f6b-4c76-db2a-9e655508d231"
   },
   "outputs": [
    {
     "name": "stdout",
     "output_type": "stream",
     "text": [
      "Max. spending is: 100.0\n",
      "Min. spending is: 0.0\n",
      "Avg. spending is: 49.990775\n"
     ]
    }
   ],
   "source": [
    "# Code here please\n",
    "print('Max. spending is:', df['price(CAD)'].max())\n",
    "print('Min. spending is:', df['price(CAD)'].min())\n",
    "print('Avg. spending is:', df['price(CAD)'].mean())"
   ]
  },
  {
   "cell_type": "code",
   "execution_count": null,
   "metadata": {
    "id": "e_6HyMcnIg-e",
    "outputId": "ce7d7c39-3734-49f3-a4e7-13a26b891bf6"
   },
   "outputs": [],
   "source": []
  },
  {
   "cell_type": "markdown",
   "metadata": {
    "id": "DRdmrdH9Ig-e"
   },
   "source": [
    "**11. Who did not spend anything? Company wants to send a deal to encourage the customer to buy stuff!**"
   ]
  },
  {
   "cell_type": "code",
   "execution_count": 26,
   "metadata": {
    "colab": {
     "base_uri": "https://localhost:8080/",
     "height": 236
    },
    "id": "B8JXvxPVIg-e",
    "outputId": "ba6b294f-c24f-42f5-ce5e-bc16d2f56dfc"
   },
   "outputs": [
    {
     "data": {
      "text/html": [
       "<div>\n",
       "<style scoped>\n",
       "    .dataframe tbody tr th:only-of-type {\n",
       "        vertical-align: middle;\n",
       "    }\n",
       "\n",
       "    .dataframe tbody tr th {\n",
       "        vertical-align: top;\n",
       "    }\n",
       "\n",
       "    .dataframe thead th {\n",
       "        text-align: right;\n",
       "    }\n",
       "</style>\n",
       "<table border=\"1\" class=\"dataframe\">\n",
       "  <thead>\n",
       "    <tr style=\"text-align: right;\">\n",
       "      <th></th>\n",
       "      <th>prefix</th>\n",
       "      <th>first</th>\n",
       "      <th>last</th>\n",
       "      <th>email</th>\n",
       "      <th>gender</th>\n",
       "      <th>age</th>\n",
       "      <th>company</th>\n",
       "      <th>profession</th>\n",
       "      <th>phone</th>\n",
       "      <th>postal</th>\n",
       "      <th>province</th>\n",
       "      <th>cc_no</th>\n",
       "      <th>cc_exp</th>\n",
       "      <th>cc_type</th>\n",
       "      <th>price(CAD)</th>\n",
       "      <th>fav_color</th>\n",
       "      <th>ip</th>\n",
       "      <th>weekday</th>\n",
       "      <th>ampm</th>\n",
       "      <th>date</th>\n",
       "    </tr>\n",
       "  </thead>\n",
       "  <tbody>\n",
       "    <tr>\n",
       "      <th>5320</th>\n",
       "      <td>Dr.</td>\n",
       "      <td>Bruce</td>\n",
       "      <td>Bryan</td>\n",
       "      <td>ru@pubuspuh.cl</td>\n",
       "      <td>Male</td>\n",
       "      <td>59</td>\n",
       "      <td>Wal-Mart Stores Inc</td>\n",
       "      <td>Engineer Technician</td>\n",
       "      <td>(709) 446-8317</td>\n",
       "      <td>H6H 3Y0</td>\n",
       "      <td>NU</td>\n",
       "      <td>201000000000000</td>\n",
       "      <td>04/2024</td>\n",
       "      <td>Bankcard</td>\n",
       "      <td>0.0</td>\n",
       "      <td>White</td>\n",
       "      <td>82.70.62.64</td>\n",
       "      <td>Wednesday</td>\n",
       "      <td>am</td>\n",
       "      <td>12/11/1900</td>\n",
       "    </tr>\n",
       "    <tr>\n",
       "      <th>10597</th>\n",
       "      <td>Mrs.</td>\n",
       "      <td>Flora</td>\n",
       "      <td>Clark</td>\n",
       "      <td>wad@me.com</td>\n",
       "      <td>Female</td>\n",
       "      <td>27</td>\n",
       "      <td>MetLife Inc.</td>\n",
       "      <td>Cruise Director</td>\n",
       "      <td>(775) 373-6590</td>\n",
       "      <td>B2U 8K6</td>\n",
       "      <td>NB</td>\n",
       "      <td>30100000000000</td>\n",
       "      <td>05/2020</td>\n",
       "      <td>Diners Club Carte Blanche</td>\n",
       "      <td>0.0</td>\n",
       "      <td>Red</td>\n",
       "      <td>231.156.15.63</td>\n",
       "      <td>Thursday</td>\n",
       "      <td>pm</td>\n",
       "      <td>08/22/1904</td>\n",
       "    </tr>\n",
       "  </tbody>\n",
       "</table>\n",
       "</div>"
      ],
      "text/plain": [
       "      prefix  first   last           email  gender  age              company  \\\n",
       "5320     Dr.  Bruce  Bryan  ru@pubuspuh.cl    Male   59  Wal-Mart Stores Inc   \n",
       "10597   Mrs.  Flora  Clark      wad@me.com  Female   27         MetLife Inc.   \n",
       "\n",
       "                profession           phone   postal province            cc_no  \\\n",
       "5320   Engineer Technician  (709) 446-8317  H6H 3Y0       NU  201000000000000   \n",
       "10597      Cruise Director  (775) 373-6590  B2U 8K6       NB   30100000000000   \n",
       "\n",
       "        cc_exp                    cc_type  price(CAD) fav_color  \\\n",
       "5320   04/2024                   Bankcard         0.0     White   \n",
       "10597  05/2020  Diners Club Carte Blanche         0.0       Red   \n",
       "\n",
       "                  ip    weekday ampm        date  \n",
       "5320     82.70.62.64  Wednesday   am  12/11/1900  \n",
       "10597  231.156.15.63   Thursday   pm  08/22/1904  "
      ]
     },
     "execution_count": 26,
     "metadata": {},
     "output_type": "execute_result"
    }
   ],
   "source": [
    "# Code here please\n",
    "df[df['price(CAD)']==0]"
   ]
  },
  {
   "cell_type": "code",
   "execution_count": null,
   "metadata": {
    "id": "jErkYNgBIg-e",
    "outputId": "b88e0629-ef65-40b4-b708-0b5c721a2a30"
   },
   "outputs": [],
   "source": []
  },
  {
   "cell_type": "markdown",
   "metadata": {
    "id": "YOnsZukEIg-f"
   },
   "source": [
    "**12. As a loyalty reward, company wants to send thanks coupon to those who spent 100CAD or more, please find out the customers?**"
   ]
  },
  {
   "cell_type": "code",
   "execution_count": 27,
   "metadata": {
    "colab": {
     "base_uri": "https://localhost:8080/",
     "height": 268
    },
    "id": "blU-yeTQIg-f",
    "outputId": "1642527a-0d15-4332-fe87-ada80650612d"
   },
   "outputs": [
    {
     "data": {
      "text/html": [
       "<div>\n",
       "<style scoped>\n",
       "    .dataframe tbody tr th:only-of-type {\n",
       "        vertical-align: middle;\n",
       "    }\n",
       "\n",
       "    .dataframe tbody tr th {\n",
       "        vertical-align: top;\n",
       "    }\n",
       "\n",
       "    .dataframe thead th {\n",
       "        text-align: right;\n",
       "    }\n",
       "</style>\n",
       "<table border=\"1\" class=\"dataframe\">\n",
       "  <thead>\n",
       "    <tr style=\"text-align: right;\">\n",
       "      <th></th>\n",
       "      <th>prefix</th>\n",
       "      <th>first</th>\n",
       "      <th>last</th>\n",
       "      <th>email</th>\n",
       "      <th>gender</th>\n",
       "      <th>age</th>\n",
       "      <th>company</th>\n",
       "      <th>profession</th>\n",
       "      <th>phone</th>\n",
       "      <th>postal</th>\n",
       "      <th>province</th>\n",
       "      <th>cc_no</th>\n",
       "      <th>cc_exp</th>\n",
       "      <th>cc_type</th>\n",
       "      <th>price(CAD)</th>\n",
       "      <th>fav_color</th>\n",
       "      <th>ip</th>\n",
       "      <th>weekday</th>\n",
       "      <th>ampm</th>\n",
       "      <th>date</th>\n",
       "    </tr>\n",
       "  </thead>\n",
       "  <tbody>\n",
       "    <tr>\n",
       "      <th>76</th>\n",
       "      <td>Mrs.</td>\n",
       "      <td>Gregory</td>\n",
       "      <td>Brown</td>\n",
       "      <td>hav@jek.gs</td>\n",
       "      <td>Female</td>\n",
       "      <td>31</td>\n",
       "      <td>E*Trade Group, Inc.</td>\n",
       "      <td>Novelist</td>\n",
       "      <td>(625) 537-8923</td>\n",
       "      <td>X3S 4Q2</td>\n",
       "      <td>PE</td>\n",
       "      <td>6010000000000000</td>\n",
       "      <td>04/2018</td>\n",
       "      <td>Visa</td>\n",
       "      <td>100.0</td>\n",
       "      <td>Green</td>\n",
       "      <td>212.100.18.95</td>\n",
       "      <td>Monday</td>\n",
       "      <td>am</td>\n",
       "      <td>10/23/2063</td>\n",
       "    </tr>\n",
       "    <tr>\n",
       "      <th>21093</th>\n",
       "      <td>Mrs.</td>\n",
       "      <td>Cody</td>\n",
       "      <td>Christensen</td>\n",
       "      <td>get@jovu.ag</td>\n",
       "      <td>Male</td>\n",
       "      <td>28</td>\n",
       "      <td>National City Corp.</td>\n",
       "      <td>Hospital Administrator</td>\n",
       "      <td>(261) 737-3292</td>\n",
       "      <td>X0S 1O5</td>\n",
       "      <td>PE</td>\n",
       "      <td>201000000000000</td>\n",
       "      <td>03/2024</td>\n",
       "      <td>JCB</td>\n",
       "      <td>100.0</td>\n",
       "      <td>Green</td>\n",
       "      <td>168.48.19.165</td>\n",
       "      <td>Wednesday</td>\n",
       "      <td>pm</td>\n",
       "      <td>03/28/1955</td>\n",
       "    </tr>\n",
       "    <tr>\n",
       "      <th>24385</th>\n",
       "      <td>Miss</td>\n",
       "      <td>Lizzie</td>\n",
       "      <td>Dixon</td>\n",
       "      <td>goh@tuwjaz.gd</td>\n",
       "      <td>Female</td>\n",
       "      <td>38</td>\n",
       "      <td>FleetBoston Financial Co.</td>\n",
       "      <td>Compensation Analyst</td>\n",
       "      <td>(989) 239-1752</td>\n",
       "      <td>V8X 9V6</td>\n",
       "      <td>NB</td>\n",
       "      <td>6300000000000000</td>\n",
       "      <td>07/2019</td>\n",
       "      <td>Bankcard</td>\n",
       "      <td>100.0</td>\n",
       "      <td>Blue</td>\n",
       "      <td>140.87.99.78</td>\n",
       "      <td>Saturday</td>\n",
       "      <td>pm</td>\n",
       "      <td>03/03/1983</td>\n",
       "    </tr>\n",
       "  </tbody>\n",
       "</table>\n",
       "</div>"
      ],
      "text/plain": [
       "      prefix    first         last          email  gender  age  \\\n",
       "76      Mrs.  Gregory        Brown     hav@jek.gs  Female   31   \n",
       "21093   Mrs.     Cody  Christensen    get@jovu.ag    Male   28   \n",
       "24385   Miss   Lizzie        Dixon  goh@tuwjaz.gd  Female   38   \n",
       "\n",
       "                         company              profession           phone  \\\n",
       "76           E*Trade Group, Inc.                Novelist  (625) 537-8923   \n",
       "21093        National City Corp.  Hospital Administrator  (261) 737-3292   \n",
       "24385  FleetBoston Financial Co.    Compensation Analyst  (989) 239-1752   \n",
       "\n",
       "        postal province             cc_no   cc_exp   cc_type  price(CAD)  \\\n",
       "76     X3S 4Q2       PE  6010000000000000  04/2018      Visa       100.0   \n",
       "21093  X0S 1O5       PE   201000000000000  03/2024       JCB       100.0   \n",
       "24385  V8X 9V6       NB  6300000000000000  07/2019  Bankcard       100.0   \n",
       "\n",
       "      fav_color             ip    weekday ampm        date  \n",
       "76        Green  212.100.18.95     Monday   am  10/23/2063  \n",
       "21093     Green  168.48.19.165  Wednesday   pm  03/28/1955  \n",
       "24385      Blue   140.87.99.78   Saturday   pm  03/03/1983  "
      ]
     },
     "execution_count": 27,
     "metadata": {},
     "output_type": "execute_result"
    }
   ],
   "source": [
    "# Code here please\n",
    "df[df['price(CAD)'] >= 100]"
   ]
  },
  {
   "cell_type": "code",
   "execution_count": null,
   "metadata": {
    "id": "1GNRTi2qIg-f",
    "outputId": "f8a6ce98-743f-4673-aa86-f268657f1b01",
    "scrolled": true
   },
   "outputs": [],
   "source": []
  },
  {
   "cell_type": "markdown",
   "metadata": {
    "collapsed": true,
    "id": "cVxXWFwnIg-g",
    "jupyter": {
     "outputs_hidden": true
    }
   },
   "source": [
    "**13. How many emails are associated with this credit card number '5020000000000230'?**"
   ]
  },
  {
   "cell_type": "code",
   "execution_count": 28,
   "metadata": {
    "colab": {
     "base_uri": "https://localhost:8080/"
    },
    "id": "JJKoPysvIg-l",
    "outputId": "89365ce0-dec2-4317-95e9-a899d4992814"
   },
   "outputs": [
    {
     "data": {
      "text/plain": [
       "array(['sebvajom@kol.km', 'acu@jatsot.ug'], dtype=object)"
      ]
     },
     "execution_count": 28,
     "metadata": {},
     "output_type": "execute_result"
    }
   ],
   "source": [
    "# Code here please\n",
    "df[df['cc_no'] == 5020000000000230] ['email'].unique()"
   ]
  },
  {
   "cell_type": "markdown",
   "metadata": {
    "id": "tArQ-6TVIg-m"
   },
   "source": [
    "**14. We need to send new cards to the customers well before the expire, how many cards are expiring in 2019?**<br>\n",
    "*Use `sum()` and `count()` and see the difference in their use :)*"
   ]
  },
  {
   "cell_type": "code",
   "execution_count": 29,
   "metadata": {
    "colab": {
     "base_uri": "https://localhost:8080/"
    },
    "id": "iFMmGBA8Ig-n",
    "outputId": "e5e08801-93e1-41a0-e4d2-869430c7479b"
   },
   "outputs": [
    {
     "data": {
      "text/plain": [
       "2684"
      ]
     },
     "execution_count": 29,
     "metadata": {},
     "output_type": "execute_result"
    }
   ],
   "source": [
    "# Code here please\n",
    "sum(df['cc_exp'].apply(lambda x: x[5:]) == '19')"
   ]
  },
  {
   "cell_type": "code",
   "execution_count": 30,
   "metadata": {
    "id": "Yy_nF5giIg-n",
    "outputId": "ca53f354-c96c-4133-ac17-ac24d528e618"
   },
   "outputs": [],
   "source": [
    "#cust[cust['cc_exp'].apply(lambda x: x[5:]) == '19'].count()"
   ]
  },
  {
   "cell_type": "markdown",
   "metadata": {
    "collapsed": true,
    "id": "oYvcyPK0Ig-o",
    "jupyter": {
     "outputs_hidden": true
    }
   },
   "source": [
    "**15. How many people use Visa as their Credit Card Provider?**"
   ]
  },
  {
   "cell_type": "code",
   "execution_count": 31,
   "metadata": {
    "colab": {
     "base_uri": "https://localhost:8080/",
     "height": 711
    },
    "id": "JiQHYKa1Ig-o",
    "outputId": "3b5abf6a-8d91-4663-ed38-45720faa4f0c"
   },
   "outputs": [
    {
     "data": {
      "text/plain": [
       "prefix        1721\n",
       "first         1721\n",
       "last          1721\n",
       "email         1721\n",
       "gender        1721\n",
       "age           1721\n",
       "company       1721\n",
       "profession    1721\n",
       "phone         1721\n",
       "postal        1721\n",
       "province      1721\n",
       "cc_no         1721\n",
       "cc_exp        1721\n",
       "cc_type       1721\n",
       "price(CAD)    1721\n",
       "fav_color     1721\n",
       "ip            1721\n",
       "weekday       1721\n",
       "ampm          1721\n",
       "date          1721\n",
       "dtype: int64"
      ]
     },
     "execution_count": 31,
     "metadata": {},
     "output_type": "execute_result"
    }
   ],
   "source": [
    "# # Code here please\n",
    "# df[df['cc_type']=='Visa'].count()\n",
    "df[df['cc_type']=='Visa'].count()"
   ]
  },
  {
   "cell_type": "code",
   "execution_count": null,
   "metadata": {
    "id": "-DGUyaGqIg-o",
    "outputId": "439aa201-8319-4221-8118-90a2c6a8abaf"
   },
   "outputs": [],
   "source": []
  },
  {
   "cell_type": "markdown",
   "metadata": {
    "collapsed": true,
    "id": "JQXrE96_Ig-p",
    "jupyter": {
     "outputs_hidden": true
    }
   },
   "source": [
    "**16. Can you find the customer who spent 100 CAD using Visa?**"
   ]
  },
  {
   "cell_type": "code",
   "execution_count": 32,
   "metadata": {
    "colab": {
     "base_uri": "https://localhost:8080/",
     "height": 135
    },
    "id": "273ZvgQ_Ig-p",
    "outputId": "4e172d50-000b-446b-98b8-c1c66ef46dda"
   },
   "outputs": [
    {
     "data": {
      "text/html": [
       "<div>\n",
       "<style scoped>\n",
       "    .dataframe tbody tr th:only-of-type {\n",
       "        vertical-align: middle;\n",
       "    }\n",
       "\n",
       "    .dataframe tbody tr th {\n",
       "        vertical-align: top;\n",
       "    }\n",
       "\n",
       "    .dataframe thead th {\n",
       "        text-align: right;\n",
       "    }\n",
       "</style>\n",
       "<table border=\"1\" class=\"dataframe\">\n",
       "  <thead>\n",
       "    <tr style=\"text-align: right;\">\n",
       "      <th></th>\n",
       "      <th>prefix</th>\n",
       "      <th>first</th>\n",
       "      <th>last</th>\n",
       "      <th>email</th>\n",
       "      <th>gender</th>\n",
       "      <th>age</th>\n",
       "      <th>company</th>\n",
       "      <th>profession</th>\n",
       "      <th>phone</th>\n",
       "      <th>postal</th>\n",
       "      <th>province</th>\n",
       "      <th>cc_no</th>\n",
       "      <th>cc_exp</th>\n",
       "      <th>cc_type</th>\n",
       "      <th>price(CAD)</th>\n",
       "      <th>fav_color</th>\n",
       "      <th>ip</th>\n",
       "      <th>weekday</th>\n",
       "      <th>ampm</th>\n",
       "      <th>date</th>\n",
       "    </tr>\n",
       "  </thead>\n",
       "  <tbody>\n",
       "    <tr>\n",
       "      <th>76</th>\n",
       "      <td>Mrs.</td>\n",
       "      <td>Gregory</td>\n",
       "      <td>Brown</td>\n",
       "      <td>hav@jek.gs</td>\n",
       "      <td>Female</td>\n",
       "      <td>31</td>\n",
       "      <td>E*Trade Group, Inc.</td>\n",
       "      <td>Novelist</td>\n",
       "      <td>(625) 537-8923</td>\n",
       "      <td>X3S 4Q2</td>\n",
       "      <td>PE</td>\n",
       "      <td>6010000000000000</td>\n",
       "      <td>04/2018</td>\n",
       "      <td>Visa</td>\n",
       "      <td>100.0</td>\n",
       "      <td>Green</td>\n",
       "      <td>212.100.18.95</td>\n",
       "      <td>Monday</td>\n",
       "      <td>am</td>\n",
       "      <td>10/23/2063</td>\n",
       "    </tr>\n",
       "  </tbody>\n",
       "</table>\n",
       "</div>"
      ],
      "text/plain": [
       "   prefix    first   last       email  gender  age              company  \\\n",
       "76   Mrs.  Gregory  Brown  hav@jek.gs  Female   31  E*Trade Group, Inc.   \n",
       "\n",
       "   profession           phone   postal province             cc_no   cc_exp  \\\n",
       "76   Novelist  (625) 537-8923  X3S 4Q2       PE  6010000000000000  04/2018   \n",
       "\n",
       "   cc_type  price(CAD) fav_color             ip weekday ampm        date  \n",
       "76    Visa       100.0     Green  212.100.18.95  Monday   am  10/23/2063  "
      ]
     },
     "execution_count": 32,
     "metadata": {},
     "output_type": "execute_result"
    }
   ],
   "source": [
    "# Code here please\n",
    "df[(df['cc_type']== 'Visa') & (df['price(CAD)']==100)]"
   ]
  },
  {
   "cell_type": "code",
   "execution_count": null,
   "metadata": {
    "id": "GonDojeNIg-p",
    "outputId": "943f1e99-a15f-43ac-d83d-c1f92fa74f12"
   },
   "outputs": [],
   "source": []
  },
  {
   "cell_type": "markdown",
   "metadata": {
    "id": "F7agQpuwIg-q"
   },
   "source": [
    "**17. What are two most common professions?**"
   ]
  },
  {
   "cell_type": "code",
   "execution_count": 33,
   "metadata": {
    "colab": {
     "base_uri": "https://localhost:8080/",
     "height": 178
    },
    "id": "lAfprGMsIg-q",
    "outputId": "d7a5d398-6768-4585-f82c-083eacb5dc87"
   },
   "outputs": [
    {
     "data": {
      "text/plain": [
       "profession\n",
       "Preschool Teacher       112\n",
       "Distribution Manager    107\n",
       "Name: count, dtype: int64"
      ]
     },
     "execution_count": 33,
     "metadata": {},
     "output_type": "execute_result"
    }
   ],
   "source": [
    "# Code here please\n",
    "df['profession'].value_counts(ascending=False).head(2)"
   ]
  },
  {
   "cell_type": "code",
   "execution_count": null,
   "metadata": {
    "id": "CEuM07y0Ig-q",
    "outputId": "bc6da4c7-b088-449d-cd92-a0aebfe5a88c"
   },
   "outputs": [],
   "source": []
  },
  {
   "cell_type": "markdown",
   "metadata": {
    "collapsed": true,
    "id": "cxTOFapWIg-r",
    "jupyter": {
     "outputs_hidden": true
    }
   },
   "source": [
    "**18. Can you tell the top 5 most popular email providers? (e.g. gmail.com, yahoo.com, etc...)**"
   ]
  },
  {
   "cell_type": "code",
   "execution_count": 34,
   "metadata": {
    "colab": {
     "base_uri": "https://localhost:8080/",
     "height": 272
    },
    "id": "ovvVfqbAIg-r",
    "outputId": "903cec67-e9f4-4215-88b6-d845dfa08730"
   },
   "outputs": [
    {
     "data": {
      "text/plain": [
       "email\n",
       "gmail.com      1687\n",
       "me.com         1676\n",
       "outlook.com    1664\n",
       "live.com       1660\n",
       "hotmail.com    1659\n",
       "Name: count, dtype: int64"
      ]
     },
     "execution_count": 34,
     "metadata": {},
     "output_type": "execute_result"
    }
   ],
   "source": [
    "# Code here please df['']\n",
    "df['email'].apply(lambda x: x.split('@')[1]).value_counts().head(5)"
   ]
  },
  {
   "cell_type": "code",
   "execution_count": null,
   "metadata": {
    "id": "cNqq9zeQIg-s",
    "outputId": "0250adda-924b-4132-9581-4e2491a5d85b"
   },
   "outputs": [],
   "source": []
  },
  {
   "cell_type": "markdown",
   "metadata": {
    "collapsed": true,
    "id": "HG62IVe1Ig-s",
    "jupyter": {
     "outputs_hidden": true
    }
   },
   "source": [
    "**19. Is there any customer who is using email with \"am.edu\"?**<br>\n",
    "Hint: Use `lambda` expression in `apply()`. split the email address at `@`.  "
   ]
  },
  {
   "cell_type": "code",
   "execution_count": 35,
   "metadata": {
    "colab": {
     "base_uri": "https://localhost:8080/",
     "height": 170
    },
    "id": "PnsDb_ANIg-t",
    "outputId": "01e2d6cc-c6f7-4641-af2e-d1c8b0015fbd"
   },
   "outputs": [
    {
     "data": {
      "text/html": [
       "<div>\n",
       "<style scoped>\n",
       "    .dataframe tbody tr th:only-of-type {\n",
       "        vertical-align: middle;\n",
       "    }\n",
       "\n",
       "    .dataframe tbody tr th {\n",
       "        vertical-align: top;\n",
       "    }\n",
       "\n",
       "    .dataframe thead th {\n",
       "        text-align: right;\n",
       "    }\n",
       "</style>\n",
       "<table border=\"1\" class=\"dataframe\">\n",
       "  <thead>\n",
       "    <tr style=\"text-align: right;\">\n",
       "      <th></th>\n",
       "      <th>prefix</th>\n",
       "      <th>first</th>\n",
       "      <th>last</th>\n",
       "      <th>email</th>\n",
       "      <th>gender</th>\n",
       "      <th>age</th>\n",
       "      <th>company</th>\n",
       "      <th>profession</th>\n",
       "      <th>phone</th>\n",
       "      <th>postal</th>\n",
       "      <th>province</th>\n",
       "      <th>cc_no</th>\n",
       "      <th>cc_exp</th>\n",
       "      <th>cc_type</th>\n",
       "      <th>price(CAD)</th>\n",
       "      <th>fav_color</th>\n",
       "      <th>ip</th>\n",
       "      <th>weekday</th>\n",
       "      <th>ampm</th>\n",
       "      <th>date</th>\n",
       "    </tr>\n",
       "  </thead>\n",
       "  <tbody>\n",
       "    <tr>\n",
       "      <th>150</th>\n",
       "      <td>Miss</td>\n",
       "      <td>Loretta</td>\n",
       "      <td>Fletcher</td>\n",
       "      <td>barit@am.edu</td>\n",
       "      <td>Female</td>\n",
       "      <td>48</td>\n",
       "      <td>York International Corp</td>\n",
       "      <td>Rehabilitation Counselor</td>\n",
       "      <td>(323) 279-8038</td>\n",
       "      <td>E5X 8L0</td>\n",
       "      <td>QC</td>\n",
       "      <td>6330000000000000</td>\n",
       "      <td>05/2021</td>\n",
       "      <td>Diners Club United States &amp; Canada</td>\n",
       "      <td>97.26</td>\n",
       "      <td>White</td>\n",
       "      <td>147.57.240.225</td>\n",
       "      <td>Monday</td>\n",
       "      <td>am</td>\n",
       "      <td>11/07/2066</td>\n",
       "    </tr>\n",
       "  </tbody>\n",
       "</table>\n",
       "</div>"
      ],
      "text/plain": [
       "    prefix    first      last         email  gender  age  \\\n",
       "150   Miss  Loretta  Fletcher  barit@am.edu  Female   48   \n",
       "\n",
       "                     company                profession           phone  \\\n",
       "150  York International Corp  Rehabilitation Counselor  (323) 279-8038   \n",
       "\n",
       "      postal province             cc_no   cc_exp  \\\n",
       "150  E5X 8L0       QC  6330000000000000  05/2021   \n",
       "\n",
       "                                cc_type  price(CAD) fav_color              ip  \\\n",
       "150  Diners Club United States & Canada       97.26     White  147.57.240.225   \n",
       "\n",
       "    weekday ampm        date  \n",
       "150  Monday   am  11/07/2066  "
      ]
     },
     "execution_count": 35,
     "metadata": {},
     "output_type": "execute_result"
    }
   ],
   "source": [
    "# Code here please\n",
    "df[df['email'].apply(lambda x: x.split('@')[1])=='am.edu']"
   ]
  },
  {
   "cell_type": "code",
   "execution_count": null,
   "metadata": {
    "id": "Chods_IcIg-t",
    "outputId": "a358d57c-69a2-49d6-f629-abe07e3f1c33"
   },
   "outputs": [],
   "source": []
  },
  {
   "cell_type": "markdown",
   "metadata": {
    "collapsed": true,
    "id": "9KwmhkoiIg-u",
    "jupyter": {
     "outputs_hidden": true
    }
   },
   "source": [
    "**20. Which day of the week, the store gets more customers?**"
   ]
  },
  {
   "cell_type": "code",
   "execution_count": 36,
   "metadata": {
    "colab": {
     "base_uri": "https://localhost:8080/",
     "height": 272
    },
    "id": "eyIXjAGKIg-u",
    "outputId": "382b2b3c-d4da-4bdc-e46f-90337322ea18"
   },
   "outputs": [
    {
     "data": {
      "text/plain": [
       "weekday\n",
       "Saturday     4376\n",
       "Wednesday    4365\n",
       "Thursday     4327\n",
       "Friday       4316\n",
       "Monday       4216\n",
       "Name: count, dtype: int64"
      ]
     },
     "execution_count": 36,
     "metadata": {},
     "output_type": "execute_result"
    }
   ],
   "source": [
    "# Code here please\n",
    "df['weekday'].value_counts().head(5)"
   ]
  },
  {
   "cell_type": "code",
   "execution_count": null,
   "metadata": {
    "id": "OlSiOmoRIg-u",
    "outputId": "aa694ff3-bed2-444e-a173-3ffb9bff8b8a"
   },
   "outputs": [],
   "source": []
  },
  {
   "cell_type": "markdown",
   "metadata": {
    "id": "EMLr7vvjIg-v"
   },
   "source": [
    "# Excellent work!"
   ]
  }
 ],
 "metadata": {
  "colab": {
   "provenance": []
  },
  "kernelspec": {
   "display_name": "Python 3 (ipykernel)",
   "language": "python",
   "name": "python3"
  },
  "language_info": {
   "codemirror_mode": {
    "name": "ipython",
    "version": 3
   },
   "file_extension": ".py",
   "mimetype": "text/x-python",
   "name": "python",
   "nbconvert_exporter": "python",
   "pygments_lexer": "ipython3",
   "version": "3.13.0"
  }
 },
 "nbformat": 4,
 "nbformat_minor": 4
}
